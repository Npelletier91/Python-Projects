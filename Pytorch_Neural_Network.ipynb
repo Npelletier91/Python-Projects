{
 "cells": [
  {
   "cell_type": "code",
   "execution_count": 344,
   "metadata": {},
   "outputs": [],
   "source": [
    "import torch.nn as nn\n",
    "import torch.optim as optim"
   ]
  },
  {
   "cell_type": "code",
   "execution_count": 345,
   "metadata": {},
   "outputs": [],
   "source": [
    "import torch"
   ]
  },
  {
   "cell_type": "code",
   "execution_count": 346,
   "metadata": {},
   "outputs": [],
   "source": [
    "class NeuralNetwork(nn.Module):\n",
    "    def __init__(self):\n",
    "        super(NeuralNetwork, self).__init__()\n",
    "        self.fc1 = nn.Linear(10,5)\n",
    "        self.fc2 = nn.Linear(5,3)\n",
    "        self.fc3 = nn.Linear(3,2)\n",
    "        self.relu = nn.ReLU()\n",
    "        \n",
    "    def forward(self, x):\n",
    "        x = self.relu(self.fc1(x))\n",
    "        x = self.relu(self.fc2(x))\n",
    "        x = self.fc3(x)\n",
    "        return x\n",
    "    "
   ]
  },
  {
   "cell_type": "code",
   "execution_count": 347,
   "metadata": {},
   "outputs": [
    {
     "data": {
      "text/plain": [
       "NeuralNetwork(\n",
       "  (fc1): Linear(in_features=10, out_features=5, bias=True)\n",
       "  (fc2): Linear(in_features=5, out_features=3, bias=True)\n",
       "  (fc3): Linear(in_features=3, out_features=2, bias=True)\n",
       "  (relu): ReLU()\n",
       ")"
      ]
     },
     "execution_count": 347,
     "metadata": {},
     "output_type": "execute_result"
    }
   ],
   "source": [
    "model = NeuralNetwork()\n",
    "model"
   ]
  },
  {
   "cell_type": "code",
   "execution_count": 348,
   "metadata": {},
   "outputs": [
    {
     "data": {
      "text/plain": [
       "CrossEntropyLoss()"
      ]
     },
     "execution_count": 348,
     "metadata": {},
     "output_type": "execute_result"
    }
   ],
   "source": [
    "criterion = nn.CrossEntropyLoss()\n",
    "criterion"
   ]
  },
  {
   "cell_type": "code",
   "execution_count": 349,
   "metadata": {},
   "outputs": [
    {
     "data": {
      "text/plain": [
       "SGD (\n",
       "Parameter Group 0\n",
       "    dampening: 0\n",
       "    differentiable: False\n",
       "    foreach: None\n",
       "    lr: 0.8\n",
       "    maximize: False\n",
       "    momentum: 0\n",
       "    nesterov: False\n",
       "    weight_decay: 0\n",
       ")"
      ]
     },
     "execution_count": 349,
     "metadata": {},
     "output_type": "execute_result"
    }
   ],
   "source": [
    "optimizer = optim.SGD(model.parameters(), lr=0.8)\n",
    "optimizer"
   ]
  },
  {
   "cell_type": "code",
   "execution_count": 350,
   "metadata": {},
   "outputs": [
    {
     "data": {
      "text/plain": [
       "tensor([0, 1, 1, 0, 1, 0, 1, 1, 0, 1, 0, 1, 1, 1, 1, 0, 1, 1, 1, 1, 0, 1, 1, 0,\n",
       "        0, 0, 0, 0, 1, 0, 0, 0, 1, 0, 0, 1, 1, 0, 0, 0, 1, 0, 1, 1, 0, 0, 0, 1,\n",
       "        1, 1, 1, 1, 0, 1, 1, 0, 1, 0, 0, 0, 1, 1, 0, 0, 0, 1, 1, 1, 0, 0, 1, 1,\n",
       "        1, 0, 0, 1, 0, 0, 1, 1, 1, 1, 1, 1, 0, 1, 0, 0, 0, 1, 1, 0, 1, 1, 0, 0,\n",
       "        0, 0, 0, 0])"
      ]
     },
     "execution_count": 350,
     "metadata": {},
     "output_type": "execute_result"
    }
   ],
   "source": [
    "input_data = torch.randn(100,10)\n",
    "target_data = torch.randint(0,2, (100,))\n",
    "input_data\n",
    "target_data"
   ]
  },
  {
   "cell_type": "code",
   "execution_count": 351,
   "metadata": {},
   "outputs": [
    {
     "data": {
      "text/plain": [
       "tensor([[-0.2446,  0.2667],\n",
       "        [-0.3562,  0.3349],\n",
       "        [-0.3205,  0.2834],\n",
       "        [-0.2086,  0.2320],\n",
       "        [-0.3644,  0.3374],\n",
       "        [-0.4499,  0.4717],\n",
       "        [-0.2990,  0.2860],\n",
       "        [-0.2762,  0.2686],\n",
       "        [-0.2103,  0.2584],\n",
       "        [-0.3072,  0.2772],\n",
       "        [-0.2368,  0.2768],\n",
       "        [-0.2888,  0.3055],\n",
       "        [-0.2090,  0.2314],\n",
       "        [-0.5978,  0.6814],\n",
       "        [-0.2293,  0.2483],\n",
       "        [-0.3236,  0.2927],\n",
       "        [-0.2117,  0.2326],\n",
       "        [-0.2895,  0.2689],\n",
       "        [-0.3929,  0.3493],\n",
       "        [-0.2113,  0.2324],\n",
       "        [-0.3564,  0.3292],\n",
       "        [-0.2547,  0.2537],\n",
       "        [-0.3409,  0.3433],\n",
       "        [-0.2881,  0.2961],\n",
       "        [-0.1537,  0.2056],\n",
       "        [-0.3596,  0.3847],\n",
       "        [-0.3114,  0.2799],\n",
       "        [-0.4424,  0.5092],\n",
       "        [-0.2658,  0.2579],\n",
       "        [-0.4555,  0.4931],\n",
       "        [-0.2936,  0.3286],\n",
       "        [-0.2604,  0.2553],\n",
       "        [-0.2019,  0.2281],\n",
       "        [-0.3829,  0.3895],\n",
       "        [-0.2813,  0.2651],\n",
       "        [-0.0823,  0.1723],\n",
       "        [-0.3985,  0.4173],\n",
       "        [-0.2827,  0.2658],\n",
       "        [-0.2719,  0.2607],\n",
       "        [-0.3079,  0.2775],\n",
       "        [-0.5005,  0.5856],\n",
       "        [-0.3177,  0.2820],\n",
       "        [-0.2865,  0.2675],\n",
       "        [-0.4170,  0.5328],\n",
       "        [-0.2515,  0.2512],\n",
       "        [-0.2438,  0.2516],\n",
       "        [-0.3857,  0.3763],\n",
       "        [-0.1341,  0.1965],\n",
       "        [-0.2578,  0.2721],\n",
       "        [-0.2061,  0.2301],\n",
       "        [-0.4630,  0.4479],\n",
       "        [-0.4784,  0.4859],\n",
       "        [-0.3702,  0.3816],\n",
       "        [-0.1896,  0.2239],\n",
       "        [-0.3586,  0.3269],\n",
       "        [-0.4160,  0.4259],\n",
       "        [-0.3005,  0.2744],\n",
       "        [-0.2083,  0.2311],\n",
       "        [-0.3139,  0.2943],\n",
       "        [-0.1633,  0.2101],\n",
       "        [-0.2575,  0.3450],\n",
       "        [-0.2950,  0.3197],\n",
       "        [-0.1416,  0.2000],\n",
       "        [-0.2470,  0.2491],\n",
       "        [-0.2675,  0.2587],\n",
       "        [-0.2113,  0.2325],\n",
       "        [-0.3156,  0.3339],\n",
       "        [-0.3619,  0.3221],\n",
       "        [-0.3075,  0.3286],\n",
       "        [-0.3072,  0.2772],\n",
       "        [-0.2923,  0.3369],\n",
       "        [-0.2488,  0.2499],\n",
       "        [-0.2426,  0.2625],\n",
       "        [-0.2666,  0.2866],\n",
       "        [-0.3275,  0.3542],\n",
       "        [-0.2226,  0.2377],\n",
       "        [-0.1541,  0.2112],\n",
       "        [-0.1934,  0.2363],\n",
       "        [-0.2781,  0.2636],\n",
       "        [-0.2795,  0.2643],\n",
       "        [-0.2826,  0.3027],\n",
       "        [-0.2396,  0.2457],\n",
       "        [-0.2724,  0.2609],\n",
       "        [-0.2245,  0.2629],\n",
       "        [-0.2170,  0.2548],\n",
       "        [-0.2998,  0.2898],\n",
       "        [-0.3101,  0.2785],\n",
       "        [-0.3402,  0.3391],\n",
       "        [-0.2227,  0.2606],\n",
       "        [-0.1378,  0.2046],\n",
       "        [-0.3231,  0.3490],\n",
       "        [-0.3245,  0.2852],\n",
       "        [-0.2260,  0.2856],\n",
       "        [-0.3010,  0.2823],\n",
       "        [-0.2536,  0.3232],\n",
       "        [-0.2987,  0.2987],\n",
       "        [-0.2732,  0.2613],\n",
       "        [-0.4225,  0.4392],\n",
       "        [-0.2737,  0.2615],\n",
       "        [-0.3608,  0.4055]], grad_fn=<AddmmBackward0>)"
      ]
     },
     "execution_count": 351,
     "metadata": {},
     "output_type": "execute_result"
    }
   ],
   "source": [
    "output = model(input_data)\n",
    "output"
   ]
  },
  {
   "cell_type": "code",
   "execution_count": 352,
   "metadata": {},
   "outputs": [],
   "source": [
    "epoch_num = 3000"
   ]
  },
  {
   "cell_type": "code",
   "execution_count": 353,
   "metadata": {},
   "outputs": [
    {
     "name": "stdout",
     "output_type": "stream",
     "text": [
      "Epoch 1/3000, Loss: 0.7340689301490784\n",
      "Epoch 50/3000, Loss: 0.4466016888618469\n",
      "Epoch 100/3000, Loss: 0.29062724113464355\n",
      "Epoch 150/3000, Loss: 0.3115476667881012\n",
      "Epoch 200/3000, Loss: 0.16098140180110931\n",
      "Epoch 250/3000, Loss: 0.1241152212023735\n",
      "Epoch 300/3000, Loss: 0.11535228788852692\n",
      "Epoch 350/3000, Loss: 0.10430190712213516\n",
      "Epoch 400/3000, Loss: 0.09893843531608582\n",
      "Epoch 450/3000, Loss: 0.09706688672304153\n",
      "Epoch 500/3000, Loss: 0.09517750889062881\n",
      "Epoch 550/3000, Loss: 3.0582170486450195\n",
      "Epoch 600/3000, Loss: 0.4124358892440796\n",
      "Epoch 650/3000, Loss: 0.373855859041214\n",
      "Epoch 700/3000, Loss: 0.36932170391082764\n",
      "Epoch 750/3000, Loss: 0.3623121976852417\n",
      "Epoch 800/3000, Loss: 0.3453260362148285\n",
      "Epoch 850/3000, Loss: 0.3338314890861511\n",
      "Epoch 900/3000, Loss: 0.32872405648231506\n",
      "Epoch 950/3000, Loss: 0.33864104747772217\n",
      "Epoch 1000/3000, Loss: 0.3120214343070984\n",
      "Epoch 1050/3000, Loss: 0.2809996008872986\n",
      "Epoch 1100/3000, Loss: 0.34741145372390747\n",
      "Epoch 1150/3000, Loss: 0.24045982956886292\n",
      "Epoch 1200/3000, Loss: 0.236307755112648\n",
      "Epoch 1250/3000, Loss: 0.2333851307630539\n",
      "Epoch 1300/3000, Loss: 0.23298783600330353\n",
      "Epoch 1350/3000, Loss: 0.2327284961938858\n",
      "Epoch 1400/3000, Loss: 0.23260736465454102\n",
      "Epoch 1450/3000, Loss: 0.2325422465801239\n",
      "Epoch 1500/3000, Loss: 0.23228204250335693\n",
      "Epoch 1550/3000, Loss: 0.23224085569381714\n",
      "Epoch 1600/3000, Loss: 0.23221856355667114\n",
      "Epoch 1650/3000, Loss: 0.23211818933486938\n",
      "Epoch 1700/3000, Loss: 0.23220565915107727\n",
      "Epoch 1750/3000, Loss: 0.23197384178638458\n",
      "Epoch 1800/3000, Loss: 0.23203052580356598\n",
      "Epoch 1850/3000, Loss: 0.23204483091831207\n",
      "Epoch 1900/3000, Loss: 0.23197437822818756\n",
      "Epoch 1950/3000, Loss: 0.2319754809141159\n",
      "Epoch 2000/3000, Loss: 0.2318994551897049\n",
      "Epoch 2050/3000, Loss: 0.2319117784500122\n",
      "Epoch 2100/3000, Loss: 0.23194333910942078\n",
      "Epoch 2150/3000, Loss: 0.23187202215194702\n",
      "Epoch 2200/3000, Loss: 0.23187577724456787\n",
      "Epoch 2250/3000, Loss: 0.231894850730896\n",
      "Epoch 2300/3000, Loss: 0.23187972605228424\n",
      "Epoch 2350/3000, Loss: 0.23184333741664886\n",
      "Epoch 2400/3000, Loss: 0.23194263875484467\n",
      "Epoch 2450/3000, Loss: 0.23185892403125763\n",
      "Epoch 2500/3000, Loss: 0.2318195402622223\n",
      "Epoch 2550/3000, Loss: 0.2320978045463562\n",
      "Epoch 2600/3000, Loss: 0.2318442463874817\n",
      "Epoch 2650/3000, Loss: 0.23185646533966064\n",
      "Epoch 2700/3000, Loss: 0.23186847567558289\n",
      "Epoch 2750/3000, Loss: 0.2318529188632965\n",
      "Epoch 2800/3000, Loss: 0.23183827102184296\n",
      "Epoch 2850/3000, Loss: 0.23181164264678955\n",
      "Epoch 2900/3000, Loss: 0.23182301223278046\n",
      "Epoch 2950/3000, Loss: 0.22350424528121948\n",
      "Epoch 3000/3000, Loss: 0.22339877486228943\n"
     ]
    }
   ],
   "source": [
    "for epoch in range(epoch_num):\n",
    "    optimizer.zero_grad()\n",
    "    output = model(input_data)\n",
    "    loss = criterion(output, target_data)\n",
    "    loss.backward()\n",
    "    optimizer.step()\n",
    "    if epoch == 0:\n",
    "        print(f'Epoch {epoch+1}/{epoch_num}, Loss: {loss.item()}')\n",
    "    if (epoch+1) % 50 == 0:\n",
    "        print(f'Epoch {epoch+1}/{epoch_num}, Loss: {loss.item()}')"
   ]
  },
  {
   "cell_type": "code",
   "execution_count": 354,
   "metadata": {},
   "outputs": [
    {
     "name": "stdout",
     "output_type": "stream",
     "text": [
      "Updated model parameters:\n",
      "fc1.weight tensor([[ 1.5638,  2.1949,  0.5602,  0.6434, -0.6401,  0.8657, -0.8501,  0.6179,\n",
      "         -0.3506,  0.9480],\n",
      "        [ 1.8225,  1.0024, -1.0423, -0.7242, -1.0920,  2.0651, -2.4504, -0.0032,\n",
      "          0.0545,  1.5198],\n",
      "        [ 1.1562, -1.5326,  2.0466,  0.1883,  0.0353, -0.4486, -0.6247,  0.2720,\n",
      "         -0.2422, -2.1679],\n",
      "        [ 1.1704, -1.0846,  1.3814,  1.8419,  0.1891,  1.2078, -0.7145, -0.1148,\n",
      "         -0.1614,  0.1948],\n",
      "        [ 0.3333, -0.6590,  1.2999,  0.9374, -1.4499, -0.3844, -0.9363, -0.8789,\n",
      "         -1.5983, -0.8461]])\n",
      "fc1.bias tensor([-0.6346, -2.0716, -0.4924, -1.7595,  0.8481])\n",
      "fc2.weight tensor([[-2.7144,  1.4378, -3.1550, -0.8800,  1.9683],\n",
      "        [ 0.2260, -3.4383, -0.8444,  1.9556,  0.6924],\n",
      "        [ 1.5266, -2.4419, -1.0361, -0.9894, -2.1916]])\n",
      "fc2.bias tensor([ 0.3888, -2.2141, -0.4271])\n",
      "fc3.weight tensor([[-2.8070, -2.2924, -2.1017],\n",
      "        [ 2.8684,  2.4338,  2.2542]])\n",
      "fc3.bias tensor([ 1.2439, -1.3171])\n"
     ]
    }
   ],
   "source": [
    "print(\"Updated model parameters:\")\n",
    "for name, param in model.named_parameters():\n",
    "    if param.requires_grad:\n",
    "        print(name, param.data)"
   ]
  },
  {
   "cell_type": "code",
   "execution_count": 355,
   "metadata": {},
   "outputs": [
    {
     "name": "stdout",
     "output_type": "stream",
     "text": [
      "loss: 0.22339877486228943\n"
     ]
    }
   ],
   "source": [
    "print(\"loss:\", loss.item())"
   ]
  },
  {
   "cell_type": "code",
   "execution_count": 356,
   "metadata": {},
   "outputs": [],
   "source": [
    "def calculate_accurary(output, target):\n",
    "    _, predicted = torch.max(output, 1)\n",
    "    print(predicted)\n",
    "    correct_predicted = (predicted == target).sum().item()/target.size(0)\n",
    "    print(f'Correctly Predicted: {correct_predicted:.6f}')\n",
    "    return correct_predicted"
   ]
  },
  {
   "cell_type": "code",
   "execution_count": 357,
   "metadata": {},
   "outputs": [
    {
     "name": "stdout",
     "output_type": "stream",
     "text": [
      "tensor([0, 1, 1, 0, 1, 0, 1, 1, 0, 1, 0, 1, 1, 1, 1, 0, 1, 1, 1, 1, 0, 1, 0, 0,\n",
      "        0, 0, 0, 0, 1, 0, 0, 0, 1, 0, 0, 1, 1, 0, 0, 0, 0, 0, 0, 1, 0, 0, 0, 1,\n",
      "        1, 1, 1, 1, 0, 0, 1, 0, 0, 0, 0, 0, 1, 0, 0, 0, 0, 1, 1, 1, 0, 0, 1, 0,\n",
      "        1, 0, 0, 1, 0, 0, 1, 1, 1, 1, 0, 0, 0, 1, 0, 0, 0, 1, 1, 0, 0, 1, 0, 0,\n",
      "        0, 0, 0, 0])\n",
      "Correctly Predicted: 0.900000\n",
      "Accuracy:90.0%\n"
     ]
    }
   ],
   "source": [
    "accuracy = calculate_accurary(output, target_data)\n",
    "print(f'Accuracy:{accuracy * 100}%')"
   ]
  },
  {
   "cell_type": "code",
   "execution_count": null,
   "metadata": {},
   "outputs": [],
   "source": []
  }
 ],
 "metadata": {
  "kernelspec": {
   "display_name": "base",
   "language": "python",
   "name": "python3"
  },
  "language_info": {
   "codemirror_mode": {
    "name": "ipython",
    "version": 3
   },
   "file_extension": ".py",
   "mimetype": "text/x-python",
   "name": "python",
   "nbconvert_exporter": "python",
   "pygments_lexer": "ipython3",
   "version": "3.11.5"
  }
 },
 "nbformat": 4,
 "nbformat_minor": 2
}
